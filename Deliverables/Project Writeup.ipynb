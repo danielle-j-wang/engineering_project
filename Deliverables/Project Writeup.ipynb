{
 "cells": [
  {
   "cell_type": "markdown",
   "id": "335d1f4a",
   "metadata": {},
   "source": [
    "## Data Engineering Project Write-up"
   ]
  },
  {
   "cell_type": "markdown",
   "id": "27444589",
   "metadata": {},
   "source": [
    "Visualizing the Mortality Data of Heart Disease Among US Adults (35+)"
   ]
  },
  {
   "cell_type": "markdown",
   "id": "f2dfb37e",
   "metadata": {},
   "source": [
    "### Abstract"
   ]
  },
  {
   "cell_type": "markdown",
   "id": "77a2a990",
   "metadata": {},
   "source": [
    "The goal of this project was to use Streamlit and Flask to build apps to visualize the mortality data of heart disease specifically on cardiovascular disease by State or County from 2016 through 2018.  The project provides interactive dashboards to emphasize the importance to pay attention to early signs and preventions. Heart disease is the leading cause of death in the United States. "
   ]
  },
  {
   "cell_type": "markdown",
   "id": "0fe7c891",
   "metadata": {},
   "source": [
    "### Design"
   ]
  },
  {
   "cell_type": "markdown",
   "id": "eae224cb",
   "metadata": {},
   "source": [
    "The project inspiration came from the National Wear Red Day on February 4th which celebrates each year on the first Friday in February to bring greater attention to heart disease as a leading cause of death for Americans and raise and spread awareness in hopes to help eradicate heart disease in millions of women all over the nation. "
   ]
  },
  {
   "cell_type": "markdown",
   "id": "c2f5953f",
   "metadata": {},
   "source": [
    "### Data"
   ]
  },
  {
   "cell_type": "markdown",
   "id": "8d3cd7e2",
   "metadata": {},
   "source": [
    "The dataset contains 14,224 rows and 7 columns which was published by CDC on Data.gov on [Heart Disease Mortality Data Among US Adults (35+) by State/Territory and County – 2016-2018](https://catalog.data.gov/dataset/heart-disease-mortality-data-among-us-adults-35-by-state-territory-and-county-2016-2018#sec-dates). Features includes State, County, Mortality Rate, Gender, Ethnicity, Latitude, and Longitude."
   ]
  },
  {
   "cell_type": "markdown",
   "id": "39582363",
   "metadata": {},
   "source": [
    "### Algorithm"
   ]
  },
  {
   "cell_type": "markdown",
   "id": "e0bd5bf1",
   "metadata": {},
   "source": [
    "#### Data Storage and Data Preprocessing"
   ]
  },
  {
   "cell_type": "markdown",
   "id": "947b532a",
   "metadata": {},
   "source": [
    "The original dataset had 59,094 rows and 20 columns and only 6 columns were retained including State, County, Mortality Rate, Gender, Ethnicity, Latitude, and Longitude. The following records were removed, \n",
    "* In the County column, any records with “Nation” or “State”\n",
    "* In the Mortality Rate column, any records with missing values\n",
    "* In the Gender column, any records besides “Female” and “Male”\n",
    "* In the Ethnicity column, any records besides “White”, “Black”, “Hispanic”, “Asian and Pacific Islander”, and “American Indian and Alaskan Native”\n"
   ]
  },
  {
   "cell_type": "markdown",
   "id": "761093ad",
   "metadata": {},
   "source": [
    "#### App"
   ]
  },
  {
   "cell_type": "markdown",
   "id": "72775b9c",
   "metadata": {},
   "source": [
    "App design was built from the basic data distribution based on State, Gender, Ethnicity and then more interactive visualizations were also built."
   ]
  },
  {
   "cell_type": "markdown",
   "id": "0da66510",
   "metadata": {},
   "source": [
    "* Streamlit\n",
    "* Python (Pandas, Numpy)\n",
    "* Python (Matplotlib, Seaborn)\n",
    "* SQLAlchemy\n"
   ]
  },
  {
   "cell_type": "markdown",
   "id": "2006a2b9",
   "metadata": {},
   "source": [
    "### Communication"
   ]
  },
  {
   "cell_type": "markdown",
   "id": "af1a2e4b",
   "metadata": {},
   "source": [
    "A page of write-up and presentation slides will be available in my Github repo."
   ]
  },
  {
   "cell_type": "code",
   "execution_count": null,
   "id": "a1dbaf5f",
   "metadata": {},
   "outputs": [],
   "source": []
  }
 ],
 "metadata": {
  "kernelspec": {
   "display_name": "Python 3 (ipykernel)",
   "language": "python",
   "name": "python3"
  },
  "language_info": {
   "codemirror_mode": {
    "name": "ipython",
    "version": 3
   },
   "file_extension": ".py",
   "mimetype": "text/x-python",
   "name": "python",
   "nbconvert_exporter": "python",
   "pygments_lexer": "ipython3",
   "version": "3.9.7"
  }
 },
 "nbformat": 4,
 "nbformat_minor": 5
}
